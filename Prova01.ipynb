{
 "cells": [
  {
   "cell_type": "code",
   "execution_count": 66,
   "id": "5e1cab7d-d14d-4588-b03d-9be7b2bfbf18",
   "metadata": {},
   "outputs": [
    {
     "name": "stdin",
     "output_type": "stream",
     "text": [
      "Digite o primeiro valor:  5\n",
      "Digite o segundo valor:  1\n",
      "Digite o terceiro valor:  9\n"
     ]
    },
    {
     "name": "stdout",
     "output_type": "stream",
     "text": [
      "14\n"
     ]
    }
   ],
   "source": [
    "valor1 = int(input(\"Digite o primeiro valor: \"))\n",
    "valor2 = int(input(\"Digite o segundo valor: \"))\n",
    "valor3 = int(input(\"Digite o terceiro valor: \"))\n",
    "\n",
    "if valor1 > valor2 and valor2 > valor3:\n",
    "    resultado = valor1 + valor2\n",
    "elif valor2 > valor1 and valor3 > valor1:\n",
    "    resultado = valor2 + valor3\n",
    "else:\n",
    "    resultado = valor1 + valor3\n",
    "print(resultado)"
   ]
  },
  {
   "cell_type": "code",
   "execution_count": null,
   "id": "80d408c7-7ee9-4614-ae72-782a9b38e87a",
   "metadata": {},
   "outputs": [],
   "source": []
  }
 ],
 "metadata": {
  "kernelspec": {
   "display_name": "Python [conda env:base] *",
   "language": "python",
   "name": "conda-base-py"
  },
  "language_info": {
   "codemirror_mode": {
    "name": "ipython",
    "version": 3
   },
   "file_extension": ".py",
   "mimetype": "text/x-python",
   "name": "python",
   "nbconvert_exporter": "python",
   "pygments_lexer": "ipython3",
   "version": "3.12.7"
  }
 },
 "nbformat": 4,
 "nbformat_minor": 5
}
